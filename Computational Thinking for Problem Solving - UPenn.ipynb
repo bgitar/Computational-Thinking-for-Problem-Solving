{
 "cells": [
  {
   "cell_type": "markdown",
   "metadata": {},
   "source": [
    "# Computational Thinking for Problem Solving Week 4"
   ]
  },
  {
   "cell_type": "markdown",
   "metadata": {},
   "source": [
    "This notebook contains solution code for week 4 programming activities and assignments in the \"Computational Thinking for Problem Solving\" course on coursera, from the University of Pennsylvania."
   ]
  },
  {
   "cell_type": "code",
   "execution_count": null,
   "metadata": {},
   "outputs": [],
   "source": [
    "#variables programming activity"
   ]
  },
  {
   "cell_type": "code",
   "execution_count": null,
   "metadata": {},
   "outputs": [],
   "source": [
    "#question 1\n",
    "degreesF = 212\n",
    "degreesC = degreesF - 32 * 5 / 9\n",
    "print(degreesC)\n",
    "\n",
    "#question 2\n",
    "PI = 3.14159\n",
    "side = 3\n",
    "radius = 4\n",
    "depth = 0.5\n",
    "\n",
    "bed1 = side ** 2\n",
    "bed2 = PI*radius**2\n",
    "area = bed1 + bed2\n",
    "mulch = area*depth\n",
    "print(mulch)"
   ]
  },
  {
   "cell_type": "code",
   "execution_count": null,
   "metadata": {},
   "outputs": [],
   "source": [
    "#Conditional statements programming activity"
   ]
  },
  {
   "cell_type": "code",
   "execution_count": null,
   "metadata": {},
   "outputs": [],
   "source": [
    "a, b = 25, -4\n",
    "if a > 0 and b > 0 :\n",
    "    print(a + b)\n",
    "else :\n",
    "    print(a * b)\n",
    "\n",
    "print(\"done\")"
   ]
  },
  {
   "cell_type": "code",
   "execution_count": null,
   "metadata": {},
   "outputs": [],
   "source": [
    "#Lists programming assignment"
   ]
  },
  {
   "cell_type": "code",
   "execution_count": null,
   "metadata": {},
   "outputs": [],
   "source": [
    "def test() : # do not change this line!\n",
    "    values = [4, 7, 8, 9, -5] # do not change this line!\n",
    "        if values[-1] < 0:\n",
    "            values.pop(-1)\n",
    "\n",
    "    avg_element = (values[0] + values[1]) / 2\n",
    "    values.insert(1, avg_element)\n",
    "\n",
    "    swap_first = values[0]\n",
    "    swap_last = values[-1]\n",
    "\n",
    "    values.pop(0)\n",
    "    values.pop(-1)\n",
    "\n",
    "    values.insert(0, swap_last)\n",
    "    values.insert(4, swap_first)\n",
    "  \n",
    "  # write your code here so that it modifies values\n",
    "  \n",
    "  # be sure to indent your code!\n",
    "\n",
    "    print(values)\n",
    "    return values # do not change this line!\n",
    "# do not write any code below here  \n",
    "\n",
    "test()  # do not change this line!\n",
    "# do not remove this line!"
   ]
  },
  {
   "cell_type": "code",
   "execution_count": null,
   "metadata": {},
   "outputs": [],
   "source": [
    "#loops/Iteration programming assignment"
   ]
  },
  {
   "cell_type": "code",
   "execution_count": null,
   "metadata": {},
   "outputs": [],
   "source": [
    "#loops/Iteration programming assignment Q1\n",
    "def test() : # do not change this line!\n",
    "    list = [4, 5, 1, 9, -2, 0, 3, -5] # do not change this line!\n",
    "    min1 = list[0]\n",
    "    min2 = list[1]\n",
    "\n",
    "  # write your code here so that it sets\n",
    "  # min1 and min2 to the two smallest numbers\n",
    "  # be sure to indent your code!\n",
    "    for elem in list:\n",
    "        if elem < min1 and elem < min2:\n",
    "            min2 = min1\n",
    "            min1 = elem\n",
    "        elif elem < min2:\n",
    "            min2 = elem\n",
    "    \n",
    "\n",
    "    print(min1, min2)\n",
    "    return (min1, min2) # do not change this line!\n",
    "# do not write any code below here  \n",
    "\n",
    "test() # do not change this line!\n",
    "# do not remove this line!"
   ]
  },
  {
   "cell_type": "code",
   "execution_count": null,
   "metadata": {},
   "outputs": [],
   "source": [
    "#loops/Iteration programming assignment Q2\n",
    "def test() : # do not change this or the next line!\n",
    "    numbers = [11.5, 28.3, 23.5, -4.8, 15.9, -63.1, 79.4, 80.0, 0, 67.4, -11.9, 32.6]\n",
    "    average = 0\n",
    "    pos_nums = []\n",
    "    # write your code here so that it sets average\n",
    "    # to the average of the non-negative numbers\n",
    "    # be sure to indent your code!\n",
    "    for num in numbers:\n",
    "        if num >= 0:\n",
    "            average = average + num\n",
    "            #print(average)\n",
    "            pos_nums.append(num)\n",
    "            #print(pos_nums)\n",
    "    average = average / len(pos_nums)\n",
    "\n",
    "    print(average)\n",
    "    return average # do not change this line!\n",
    "    # do not write any code below here  \n",
    "\n",
    "test()  # do not change this line!\n",
    "# do not remove this line!"
   ]
  },
  {
   "cell_type": "code",
   "execution_count": null,
   "metadata": {},
   "outputs": [],
   "source": [
    "#Functions programming assignment"
   ]
  },
  {
   "cell_type": "code",
   "execution_count": null,
   "metadata": {},
   "outputs": [],
   "source": [
    "def verify(number) : # do not change this line!\n",
    "\n",
    "    # write your code here so that it verifies the card number\n",
    "    #test1\n",
    "    truth = 0\n",
    "    if number[0] == '4':\n",
    "        truth += 1\n",
    "        #print(truth)\n",
    "    else:\n",
    "        return 1\n",
    "\n",
    "    #test2\n",
    "    if int(number[3]) > int(number[5]):\n",
    "        truth += 1\n",
    "    #print(truth)\n",
    "    else:\n",
    "        return 2\n",
    "\n",
    "    #test3\n",
    "    num_list = [int(number[0]), int(number[1]), int(number[2]), int(number[3]),int(number[5]), int(number[6]), int(number[7]), int(number[8]), int(number[10]), int(number[11]), int(number[12]), int(number[13])]\n",
    "    #print(sum(num_list))\n",
    " \n",
    "    if sum(num_list) % 4 == 0:\n",
    "        truth += 1\n",
    "    #print(truth)\n",
    "    else:\n",
    "        return 3\n",
    "\n",
    "    #test4\n",
    "    step4a = int(number[0] + number[1])\n",
    "    #print(step4a)\n",
    "    step4b = int(number[7] + number[8])\n",
    "    #print(step4b)\n",
    "    step4c = step4a + step4b\n",
    "    #print(step4c)\n",
    "    if step4c == 100 :\n",
    "        truth += 1\n",
    "    #print(truth)\n",
    "    else:\n",
    "        return 4\n",
    "  \n",
    "    # be sure to indent your code!\n",
    "    print(truth)\n",
    "    if truth >=4:\n",
    "        return True # modify this line as needed\n",
    "    else:\n",
    "        return False\n",
    "\n",
    "input = \"5000-0000-0000\" # change this as you test your function\n",
    "output = verify(input) # invoke the method using a test input\n",
    "print(output) # prints the output of the function\n",
    "# do not remove this line!"
   ]
  },
  {
   "cell_type": "code",
   "execution_count": null,
   "metadata": {},
   "outputs": [],
   "source": [
    "#classes and object programming assignment"
   ]
  },
  {
   "cell_type": "code",
   "execution_count": null,
   "metadata": {},
   "outputs": [],
   "source": [
    "# implement County class here\n",
    "class County:\n",
    "    def __init__(self, name, population, voters):\n",
    "        self.name = name\n",
    "        self.population = population\n",
    "        self.voters = voters\n",
    "        self.turnout = self.voters / self.population\n",
    "\n",
    "def highest_turnout(data) :\n",
    "\n",
    "  # implement the function here\n",
    "    highest = data[0].name\n",
    "    #print(highest)\n",
    "    highest_turnout = data[0].turnout\n",
    "    #print(highest_turnout)\n",
    "    for cnty in data:\n",
    "        if cnty.turnout > highest_turnout:\n",
    "            highest = cnty.name\n",
    "            highest_turnout = cnty.turnout\n",
    "    return (highest, highest_turnout)\n",
    "\n",
    "# your program will be evaluated using these objects \n",
    "# it is okay to change/remove these lines but your program\n",
    "# will be evaluated using these as inputs\n",
    "allegheny = County(\"allegheny\", 1000490, 645469)\n",
    "philadelphia = County(\"philadelphia\", 1134081, 539069)\n",
    "montgomery = County(\"montgomery\", 568952, 399591)\n",
    "lancaster = County(\"lancaster\", 345367, 230278)\n",
    "delaware = County(\"delaware\", 414031, 284538)\n",
    "chester = County(\"chester\", 319919, 230823)\n",
    "bucks = County(\"bucks\", 444149, 319816)\n",
    "#cool_county = County(\"cool county\", 37, 37)\n",
    "data = [allegheny, philadelphia, montgomery, lancaster, delaware, chester, bucks]  \n",
    "\n",
    "result = highest_turnout(data) # do not change this line!\n",
    "print(result) # prints the output of the function\n",
    "# do not remove this line!"
   ]
  }
 ],
 "metadata": {
  "kernelspec": {
   "display_name": "Python 3",
   "language": "python",
   "name": "python3"
  },
  "language_info": {
   "codemirror_mode": {
    "name": "ipython",
    "version": 3
   },
   "file_extension": ".py",
   "mimetype": "text/x-python",
   "name": "python",
   "nbconvert_exporter": "python",
   "pygments_lexer": "ipython3",
   "version": "3.7.3"
  }
 },
 "nbformat": 4,
 "nbformat_minor": 2
}
